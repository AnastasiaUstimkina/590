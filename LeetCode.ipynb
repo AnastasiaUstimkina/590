{
 "cells": [
  {
   "cell_type": "markdown",
   "metadata": {},
   "source": [
    "## 3. Given a string, find the length of the longest substring without repeating characters.\n",
    "\n"
   ]
  },
  {
   "cell_type": "markdown",
   "metadata": {},
   "source": [
    "время: O(n)\n",
    "память: O(1) \n",
    "\n"
   ]
  },
  {
   "cell_type": "code",
   "execution_count": 1,
   "metadata": {},
   "outputs": [],
   "source": [
    "def lengthOfLongestSubstring(s):\n",
    "    \"\"\"\n",
    "    :type s: str\n",
    "    :rtype: int\n",
    "    \"\"\"\n",
    "    start = 0;\n",
    "    viewed = {}\n",
    "    longest = 0\n",
    "\n",
    "    for index, litera in enumerate(s):\n",
    "        if (litera in viewed) and (viewed[litera] >= start):\n",
    "            start = viewed[litera] + 1\n",
    "        else:\n",
    "            longest = max(longest, index - start + 1)\n",
    "        viewed[litera] = index\n",
    "\n",
    "    return longest"
   ]
  },
  {
   "cell_type": "markdown",
   "metadata": {},
   "source": [
    "### 992. Subarrays with K Different Integers\n"
   ]
  },
  {
   "cell_type": "markdown",
   "metadata": {},
   "source": [
    "Given an array A of positive integers, call a (contiguous, not necessarily distinct) subarray of A good if the number of different integers in that subarray is exactly K.\n",
    "\n",
    "(For example, [1,2,3,1,2] has 3 different integers: 1, 2, and 3.)\n",
    "\n",
    "Return the number of good subarrays of A"
   ]
  },
  {
   "cell_type": "code",
   "execution_count": 2,
   "metadata": {},
   "outputs": [],
   "source": [
    "    def subarraysWithKDistinct( A: 'List[int]', K: 'int') -> 'int':\n",
    "        far, near, ans, maps = 0, 0, 0, {}\n",
    "        \n",
    "        # use hashmap to save the subarray\n",
    "        # two flags, far and near\n",
    "        # far means the farest pointer that the subarray has K elements\n",
    "        # near means the nearest pointer that the subarrary has K elments\n",
    "        for item in A:\n",
    "            # add element in maps\n",
    "            maps[item] = maps.get(item,0) + 1\n",
    "            # if there are more than K elements in the array, delete the nearest one in the map, init the new flags\n",
    "            if len(maps) >K:\n",
    "                del maps[A[near]]\n",
    "                near += 1\n",
    "                far = near\n",
    "            # if the length of array is K\n",
    "            # use near - far to count the sub-arrays in this right flag(item)\n",
    "            if len(maps) == K:\n",
    "                while maps[A[near]] > 1:\n",
    "                    maps[A[near]] -= 1\n",
    "                    near += 1\n",
    "                ans += near - far + 1\n",
    "        return ans"
   ]
  },
  {
   "cell_type": "markdown",
   "metadata": {},
   "source": [
    "### 189. Rotate Array"
   ]
  },
  {
   "cell_type": "markdown",
   "metadata": {},
   "source": [
    "Given an array, rotate the array to the right by k steps, where k is non-negative.\n"
   ]
  },
  {
   "cell_type": "markdown",
   "metadata": {},
   "source": [
    "время: O(n)\n",
    "память: O(1) \n",
    "\n"
   ]
  },
  {
   "cell_type": "code",
   "execution_count": 3,
   "metadata": {},
   "outputs": [],
   "source": [
    "def rotate(nums, k):\n",
    "    \"\"\"\n",
    "    :type nums: List[int]\n",
    "    :type k: int\n",
    "    :rtype: None Do not return anything, modify nums in-place instead.\n",
    "    \"\"\"\n",
    "    copy_nums = nums[:]\n",
    "    for i in range(len(nums)):\n",
    "        nums[(i + k) % len(nums)] = copy_nums[i]\n",
    "    \n",
    "        \n",
    "    return nums"
   ]
  },
  {
   "cell_type": "markdown",
   "metadata": {},
   "source": [
    "### 665. Non-decreasing Array\n"
   ]
  },
  {
   "cell_type": "markdown",
   "metadata": {},
   "source": [
    "Given an array with n integers, your task is to check if it could become non-decreasing by modifying at most 1 element.\n",
    "\n",
    "We define an array is non-decreasing if array[i] <= array[i + 1] holds for every i (1 <= i < n)."
   ]
  },
  {
   "cell_type": "code",
   "execution_count": 4,
   "metadata": {},
   "outputs": [],
   "source": [
    "def checkPossibility(nums):\n",
    "    \"\"\"\n",
    "    :type nums: List[int]\n",
    "    :rtype: bool\n",
    "    \"\"\"\n",
    "    flag = None\n",
    "\n",
    "    for i in range(len(nums)-1):\n",
    "        if nums[i] > nums[i+1]:\n",
    "            if flag is not None:\n",
    "                return False\n",
    "            flag = i\n",
    "\n",
    "    return (flag is None or flag == 0 or flag == (len(nums) - 2) or\n",
    "           nums[flag - 1] <= nums[flag +1] or\n",
    "           nums[flag] <= nums[flag + 2])"
   ]
  },
  {
   "cell_type": "markdown",
   "metadata": {},
   "source": [
    "### longestCommonPrefix"
   ]
  },
  {
   "cell_type": "code",
   "execution_count": 5,
   "metadata": {},
   "outputs": [],
   "source": [
    "def longestCommonPrefix(strs):\n",
    "    \"\"\"\n",
    "    :type strs: List[str]\n",
    "    :rtype: str\n",
    "    \"\"\"\n",
    "    def get_prefix(str1, str2):\n",
    "        local_prefix = \"\"\n",
    "        \n",
    "        for i in range(min(len(str1), len(str2))):\n",
    "            if str1[i] == str2[i]:\n",
    "                local_prefix = str2[:i+1]\n",
    "            else:\n",
    "                return local_prefix\n",
    "                \n",
    "    \n",
    "        return local_prefix\n",
    "\n",
    "    if strs:\n",
    "        prefix = strs[0]\n",
    "    else:\n",
    "        return \"\"\n",
    "\n",
    "    for s in strs:\n",
    "        prefix = get_prefix(prefix, s)\n",
    "\n",
    "\n",
    "    return prefix"
   ]
  },
  {
   "cell_type": "markdown",
   "metadata": {},
   "source": [
    "### Given a 32-bit signed integer, reverse digits of an integer."
   ]
  },
  {
   "cell_type": "code",
   "execution_count": 6,
   "metadata": {},
   "outputs": [],
   "source": [
    "import sys\n",
    "\n",
    "class Solution(object):\n",
    "    def reverse(self, x):\n",
    "        \"\"\"\n",
    "        :type x: int\n",
    "        :rtype: int\n",
    "        \"\"\"\n",
    "        maxint = 2**31 - 1\n",
    "        minint = -maxint + 1\n",
    "        \n",
    "        if x > maxint or x < minint:\n",
    "            return 0\n",
    "        \n",
    "        strg = str(x)\n",
    "        if x < 0:\n",
    "            rev = '-' + strg[:0:-1]\n",
    "        else:\n",
    "            rev = strg[::-1]\n",
    "            \n",
    "        res = int(rev)\n",
    "        if res > maxint or res < minint:\n",
    "            return 0\n",
    "        \n",
    "        return res\n",
    "            "
   ]
  },
  {
   "cell_type": "markdown",
   "metadata": {},
   "source": [
    "### 190. Reverse Bits\n",
    "\n"
   ]
  },
  {
   "cell_type": "markdown",
   "metadata": {},
   "source": [
    "Reverse bits of a given 32 bits unsigned integer.\n",
    " \n",
    " @param n, an integer\n",
    " @return an integer"
   ]
  },
  {
   "cell_type": "markdown",
   "metadata": {},
   "source": [
    "### 38. Count and Say"
   ]
  },
  {
   "cell_type": "markdown",
   "metadata": {},
   "source": [
    "The count-and-say sequence is the sequence of integers with the first five terms as following:\n",
    "\n",
    "1.     1\n",
    "2.     11\n",
    "3.     21\n",
    "4.     1211\n",
    "5.     111221\n",
    "\n",
    "Given an integer n where 1 ≤ n ≤ 30, generate the nth term of the count-and-say sequence.\n"
   ]
  },
  {
   "cell_type": "code",
   "execution_count": 7,
   "metadata": {},
   "outputs": [],
   "source": [
    "def countAndSay(n):\n",
    "    \"\"\"\n",
    "    :type n: int\n",
    "    :rtype: str\n",
    "    \"\"\"\n",
    "    def get_count(strg, start):\n",
    "        count = 1\n",
    "        while start < len(strg)-1 and strg[start] == strg[start + 1]:\n",
    "            start += 1\n",
    "            count +=1\n",
    "\n",
    "        return count\n",
    "\n",
    "\n",
    "    cas = '1'\n",
    "    while n > 1:\n",
    "        n_cas = ''\n",
    "        start =  0\n",
    "\n",
    "        while start < len(cas):\n",
    "            count = get_count(cas, start)\n",
    "            n_cas += str(count) + cas[start]\n",
    "            start += count\n",
    "    \n",
    "        cas = n_cas[:]\n",
    "        n -= 1\n",
    "\n",
    "    return cas"
   ]
  },
  {
   "cell_type": "code",
   "execution_count": 8,
   "metadata": {},
   "outputs": [
    {
     "name": "stdout",
     "output_type": "stream",
     "text": [
      "1211\n"
     ]
    }
   ],
   "source": [
    "print(countAndSay(4))"
   ]
  },
  {
   "cell_type": "markdown",
   "metadata": {},
   "source": [
    "### 541. Reverse String II"
   ]
  },
  {
   "cell_type": "markdown",
   "metadata": {},
   "source": [
    "Given a string and an integer k, you need to reverse the first k characters for every 2k characters counting from the start of the string. If there are less than k characters left, reverse all of them. If there are less than 2k but greater than or equal to k characters, then reverse the first k characters and left the other as original.\n",
    "Example:\n",
    "Input: s = \"abcdefg\", k = 2\n",
    "Output: \"bacdfeg\""
   ]
  },
  {
   "cell_type": "code",
   "execution_count": 9,
   "metadata": {},
   "outputs": [],
   "source": [
    "def reverseStr(s, k):\n",
    "    \"\"\"\n",
    "    :type s: str\n",
    "    :type k: int\n",
    "    :rtype: str\n",
    "    \"\"\"\n",
    "    def local_reverse(strg, start, end):\n",
    "        strg = strg[start:end + 1]\n",
    "        strg = strg[::-1]\n",
    "\n",
    "        return strg\n",
    "\n",
    "    step = 2*k\n",
    "    start = 0\n",
    "    temp = ''\n",
    "\n",
    "    while start < len(s):\n",
    "        end = start + k -1\n",
    "        if end < len(s):\n",
    "            s = s[:start] + local_reverse(s, start, end) + s[end+1:]\n",
    "        else:\n",
    "            s = s[:start] + local_reverse(s, start, len(s) - 1)\n",
    "        start += step        \n",
    "\n",
    "    return s\n"
   ]
  },
  {
   "cell_type": "code",
   "execution_count": 10,
   "metadata": {},
   "outputs": [],
   "source": [
    "def reverseStr(s, k):\n",
    "        a = list(s)\n",
    "        for i in range(0, len(a), 2*k):\n",
    "            print(i)\n",
    "            a[i:i+k] = reversed(a[i:i+k])\n",
    "        return \"\".join(a)"
   ]
  },
  {
   "cell_type": "markdown",
   "metadata": {},
   "source": [
    "### 53. Maximum Subarray\n"
   ]
  },
  {
   "cell_type": "code",
   "execution_count": 11,
   "metadata": {},
   "outputs": [],
   "source": [
    "class Solution(object):\n",
    "    def maxSubArray(self, nums):\n",
    "        \"\"\"\n",
    "        :type nums: List[int]\n",
    "        :rtype: int\n",
    "        \"\"\"\n",
    "        \n",
    "        currSum = 0\n",
    "        maxSum = - 2**32\n",
    "        start, end = 0, 0\n",
    "        \n",
    "        for i, num in enumerate(nums):\n",
    "            currSum += num\n",
    "            if currSum > maxSum:\n",
    "                maxSum = currSum\n",
    "                end += 1\n",
    "            if currSum < 0:\n",
    "                currSum = 0\n",
    "                start = end + 1\n",
    "                \n",
    "        return maxSum\n",
    "            \n",
    "        "
   ]
  },
  {
   "cell_type": "code",
   "execution_count": 12,
   "metadata": {},
   "outputs": [],
   "source": [
    "def findShortestSubArray(nums):\n",
    "    \"\"\"\n",
    "    :type nums: List[int]\n",
    "    :rtype: int\n",
    "    \"\"\"\n",
    "    left, rigth, count = {}, {}, {}\n",
    "    maxCount = 0\n",
    "\n",
    "    for i, num in enumerate(nums):\n",
    "        if num in left:\n",
    "            rigth[num] = i\n",
    "            count[num] += 1\n",
    "        else:\n",
    "            left[num] = i\n",
    "            count[num] = 1\n",
    "\n",
    "    for num, c in count.items():\n",
    "        if c > maxCount:\n",
    "            maxNum = num\n",
    "            maxCount = c\n",
    "\n",
    "    return rigth[maxNum] - left[maxNum] + 1"
   ]
  }
 ],
 "metadata": {
  "kernelspec": {
   "display_name": "Python 3",
   "language": "python",
   "name": "python3"
  },
  "language_info": {
   "codemirror_mode": {
    "name": "ipython",
    "version": 3
   },
   "file_extension": ".py",
   "mimetype": "text/x-python",
   "name": "python",
   "nbconvert_exporter": "python",
   "pygments_lexer": "ipython3",
   "version": "3.7.4"
  }
 },
 "nbformat": 4,
 "nbformat_minor": 2
}
